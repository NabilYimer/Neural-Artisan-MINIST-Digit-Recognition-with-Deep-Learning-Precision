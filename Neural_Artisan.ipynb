{
 "cells": [
  {
   "cell_type": "markdown",
   "id": "f6235135",
   "metadata": {},
   "source": [
    "# Neural Artisan: MINIST Digit Recognition with Deep Learning Precision"
   ]
  },
  {
   "cell_type": "markdown",
   "id": "946779de",
   "metadata": {},
   "source": [
    "### Importing nessesary libraries"
   ]
  },
  {
   "cell_type": "code",
   "execution_count": 1,
   "id": "c506d911",
   "metadata": {
    "scrolled": true
   },
   "outputs": [
    {
     "name": "stderr",
     "output_type": "stream",
     "text": [
      "C:\\Users\\user\\anaconda3\\Lib\\site-packages\\pandas\\core\\arrays\\masked.py:60: UserWarning: Pandas requires version '1.3.6' or newer of 'bottleneck' (version '1.3.5' currently installed).\n",
      "  from pandas.core import (\n"
     ]
    },
    {
     "name": "stdout",
     "output_type": "stream",
     "text": [
      "WARNING:tensorflow:From C:\\Users\\user\\anaconda3\\Lib\\site-packages\\keras\\src\\losses.py:2976: The name tf.losses.sparse_softmax_cross_entropy is deprecated. Please use tf.compat.v1.losses.sparse_softmax_cross_entropy instead.\n",
      "\n"
     ]
    }
   ],
   "source": [
    "import numpy as np\n",
    "import pandas as pd\n",
    "import matplotlib.pyplot as plt\n",
    "import tensorflow as tf\n",
    "from sklearn.model_selection import train_test_split\n",
    "from tensorflow.keras.models import Sequential\n",
    "from tensorflow.keras.layers import Dense\n",
    "from tensorflow.keras import regularizers,layers\n",
    "from tensorflow.keras.optimizers import Adam\n",
    "from tensorflow.keras.losses import SparseCategoricalCrossentropy\n",
    "from tensorflow.keras.activations import softmax"
   ]
  },
  {
   "cell_type": "code",
   "execution_count": 2,
   "id": "27472b18",
   "metadata": {},
   "outputs": [],
   "source": [
    "train = pd.read_csv('train.csv')\n",
    "test = pd.read_csv('test.csv')\n",
    "X_test = test\n",
    "y_train = train['label']\n",
    "train=train.drop('label',axis=1)\n",
    "\n"
   ]
  },
  {
   "cell_type": "markdown",
   "id": "03c146d7",
   "metadata": {},
   "source": [
    "## Performing basic EDA (Explorative Data Analysis)"
   ]
  },
  {
   "cell_type": "code",
   "execution_count": 3,
   "id": "7e382ab1",
   "metadata": {},
   "outputs": [
    {
     "name": "stdout",
     "output_type": "stream",
     "text": [
      "X_train shape (42000, 784)\n",
      "y_train shape (42000,)\n",
      "X_train (min,max): (0,255)\n"
     ]
    }
   ],
   "source": [
    "print('X_train shape',train.shape)\n",
    "print('y_train shape',y_train.shape)\n",
    "\n",
    "print(f'X_train (min,max): ({train.iloc[2].min()},{train.iloc[2].max()})')\n"
   ]
  },
  {
   "cell_type": "markdown",
   "id": "f9796a3f",
   "metadata": {},
   "source": [
    "#### Let's plot 2 "
   ]
  },
  {
   "cell_type": "code",
   "execution_count": 4,
   "id": "5d5dae25",
   "metadata": {},
   "outputs": [
    {
     "data": {
      "image/png": "[encoded data removed]",
      "text/plain": [
       "<Figure size 200x200 with 1 Axes>"
      ]
     },
     "metadata": {},
     "output_type": "display_data"
    }
   ],
   "source": [
    "train_2=  train.loc[train[y_train==2].index.tolist()[70]]\n",
    "plt.figure(figsize=(2,2))\n",
    "plt.imshow(np.array(train_2).reshape(28,28),cmap='gray')\n",
    "plt.title('Digit 2')\n",
    "plt.show()"
   ]
  },
  {
   "cell_type": "code",
   "execution_count": 5,
   "id": "9ed4eb80",
   "metadata": {},
   "outputs": [],
   "source": [
    "# normalising the data-set and spiting\n",
    "\n",
    "train_norm = train / 255.0\n",
    "X_test = X_test / 255.0\n",
    "train_norm=train_norm.values.reshape(-1,28,28,1)\n",
    "X_test=X_test.values.reshape(-1,28,28,1)\n"
   ]
  },
  {
   "cell_type": "code",
   "execution_count": 6,
   "id": "bce460e8",
   "metadata": {},
   "outputs": [],
   "source": [
    "X_train,X_val,y_train,y_val = train_test_split(train_norm,y_train , test_size=0.2,random_state=42)\n"
   ]
  },
  {
   "cell_type": "code",
   "execution_count": 7,
   "id": "167cf764",
   "metadata": {
    "scrolled": true
   },
   "outputs": [
    {
     "name": "stdout",
     "output_type": "stream",
     "text": [
      "WARNING:tensorflow:From C:\\Users\\user\\anaconda3\\Lib\\site-packages\\keras\\src\\backend.py:873: The name tf.get_default_graph is deprecated. Please use tf.compat.v1.get_default_graph instead.\n",
      "\n",
      "WARNING:tensorflow:From C:\\Users\\user\\anaconda3\\Lib\\site-packages\\keras\\src\\layers\\pooling\\max_pooling2d.py:161: The name tf.nn.max_pool is deprecated. Please use tf.nn.max_pool2d instead.\n",
      "\n",
      "Epoch 1/40\n",
      "WARNING:tensorflow:From C:\\Users\\user\\anaconda3\\Lib\\site-packages\\keras\\src\\utils\\tf_utils.py:492: The name tf.ragged.RaggedTensorValue is deprecated. Please use tf.compat.v1.ragged.RaggedTensorValue instead.\n",
      "\n",
      "WARNING:tensorflow:From C:\\Users\\user\\anaconda3\\Lib\\site-packages\\keras\\src\\engine\\base_layer_utils.py:384: The name tf.executing_eagerly_outside_functions is deprecated. Please use tf.compat.v1.executing_eagerly_outside_functions instead.\n",
      "\n",
      "1050/1050 [==============================] - 23s 16ms/step - loss: 0.1568 - accuracy: 0.9513 - val_loss: 0.0909 - val_accuracy: 0.9715\n",
      "Epoch 2/40\n",
      "1050/1050 [==============================] - 17s 16ms/step - loss: 0.0500 - accuracy: 0.9843 - val_loss: 0.0641 - val_accuracy: 0.9808\n",
      "Epoch 3/40\n",
      "1050/1050 [==============================] - 21s 20ms/step - loss: 0.0334 - accuracy: 0.9891 - val_loss: 0.0441 - val_accuracy: 0.9869\n",
      "Epoch 4/40\n",
      "1050/1050 [==============================] - 25s 24ms/step - loss: 0.0245 - accuracy: 0.9920 - val_loss: 0.0370 - val_accuracy: 0.9879\n",
      "Epoch 5/40\n",
      "1050/1050 [==============================] - 21s 20ms/step - loss: 0.0177 - accuracy: 0.9945 - val_loss: 0.0645 - val_accuracy: 0.9824\n",
      "Epoch 6/40\n",
      "1050/1050 [==============================] - 20s 19ms/step - loss: 0.0146 - accuracy: 0.9950 - val_loss: 0.0342 - val_accuracy: 0.9893\n",
      "Epoch 7/40\n",
      "1050/1050 [==============================] - 20s 19ms/step - loss: 0.0105 - accuracy: 0.9966 - val_loss: 0.0390 - val_accuracy: 0.9889\n",
      "Epoch 8/40\n",
      "1050/1050 [==============================] - 20s 19ms/step - loss: 0.0096 - accuracy: 0.9971 - val_loss: 0.0338 - val_accuracy: 0.9914\n",
      "Epoch 9/40\n",
      "1050/1050 [==============================] - 20s 19ms/step - loss: 0.0070 - accuracy: 0.9979 - val_loss: 0.0459 - val_accuracy: 0.9887\n",
      "Epoch 10/40\n",
      "1050/1050 [==============================] - 21s 20ms/step - loss: 0.0081 - accuracy: 0.9972 - val_loss: 0.0411 - val_accuracy: 0.9894\n",
      "Epoch 11/40\n",
      "1050/1050 [==============================] - 21s 20ms/step - loss: 0.0059 - accuracy: 0.9983 - val_loss: 0.0495 - val_accuracy: 0.9882\n",
      "Epoch 12/40\n",
      "1050/1050 [==============================] - 19s 18ms/step - loss: 0.0072 - accuracy: 0.9977 - val_loss: 0.0420 - val_accuracy: 0.9901\n",
      "Epoch 13/40\n",
      "1050/1050 [==============================] - 20s 19ms/step - loss: 0.0041 - accuracy: 0.9988 - val_loss: 0.0476 - val_accuracy: 0.9893\n",
      "Epoch 14/40\n",
      "1050/1050 [==============================] - 20s 19ms/step - loss: 0.0051 - accuracy: 0.9983 - val_loss: 0.0640 - val_accuracy: 0.9844\n",
      "Epoch 15/40\n",
      "1050/1050 [==============================] - 22s 21ms/step - loss: 0.0071 - accuracy: 0.9978 - val_loss: 0.0424 - val_accuracy: 0.9898\n",
      "Epoch 16/40\n",
      "1050/1050 [==============================] - 21s 20ms/step - loss: 0.0027 - accuracy: 0.9993 - val_loss: 0.0427 - val_accuracy: 0.9919\n",
      "Epoch 17/40\n",
      "1050/1050 [==============================] - 21s 20ms/step - loss: 0.0018 - accuracy: 0.9995 - val_loss: 0.1236 - val_accuracy: 0.9789\n",
      "Epoch 18/40\n",
      "1050/1050 [==============================] - 18s 17ms/step - loss: 0.0076 - accuracy: 0.9978 - val_loss: 0.0393 - val_accuracy: 0.9917\n",
      "Epoch 19/40\n",
      "1050/1050 [==============================] - 20s 19ms/step - loss: 1.7490e-04 - accuracy: 1.0000 - val_loss: 0.0439 - val_accuracy: 0.9919\n",
      "Epoch 20/40\n",
      "1050/1050 [==============================] - 23s 22ms/step - loss: 0.0063 - accuracy: 0.9984 - val_loss: 0.0495 - val_accuracy: 0.9913\n",
      "Epoch 21/40\n",
      "1050/1050 [==============================] - 22s 21ms/step - loss: 0.0037 - accuracy: 0.9989 - val_loss: 0.0725 - val_accuracy: 0.9870\n",
      "Epoch 22/40\n",
      "1050/1050 [==============================] - 19s 18ms/step - loss: 0.0028 - accuracy: 0.9990 - val_loss: 0.0624 - val_accuracy: 0.9905\n",
      "Epoch 23/40\n",
      "1050/1050 [==============================] - 19s 18ms/step - loss: 2.2756e-04 - accuracy: 1.0000 - val_loss: 0.0494 - val_accuracy: 0.9925\n",
      "Epoch 24/40\n",
      "1050/1050 [==============================] - 20s 19ms/step - loss: 1.2054e-05 - accuracy: 1.0000 - val_loss: 0.0512 - val_accuracy: 0.9926\n",
      "Epoch 25/40\n",
      "1050/1050 [==============================] - 22s 21ms/step - loss: 4.8248e-06 - accuracy: 1.0000 - val_loss: 0.0522 - val_accuracy: 0.9926\n",
      "Epoch 26/40\n",
      "1050/1050 [==============================] - 20s 19ms/step - loss: 2.9991e-06 - accuracy: 1.0000 - val_loss: 0.0532 - val_accuracy: 0.9925\n",
      "Epoch 27/40\n",
      "1050/1050 [==============================] - 23s 22ms/step - loss: 1.8680e-06 - accuracy: 1.0000 - val_loss: 0.0544 - val_accuracy: 0.9924\n",
      "Epoch 28/40\n",
      "1050/1050 [==============================] - 21s 20ms/step - loss: 1.1420e-06 - accuracy: 1.0000 - val_loss: 0.0556 - val_accuracy: 0.9926\n",
      "Epoch 29/40\n",
      "1050/1050 [==============================] - 21s 20ms/step - loss: 7.0288e-07 - accuracy: 1.0000 - val_loss: 0.0569 - val_accuracy: 0.9926\n",
      "Epoch 30/40\n",
      "1050/1050 [==============================] - 19s 18ms/step - loss: 4.1960e-07 - accuracy: 1.0000 - val_loss: 0.0581 - val_accuracy: 0.9925\n",
      "Epoch 31/40\n",
      "1050/1050 [==============================] - 19s 18ms/step - loss: 2.4692e-07 - accuracy: 1.0000 - val_loss: 0.0600 - val_accuracy: 0.9925\n",
      "Epoch 32/40\n",
      "1050/1050 [==============================] - 21s 20ms/step - loss: 1.5212e-07 - accuracy: 1.0000 - val_loss: 0.0611 - val_accuracy: 0.9926\n",
      "Epoch 33/40\n",
      "1050/1050 [==============================] - 22s 21ms/step - loss: 9.0545e-08 - accuracy: 1.0000 - val_loss: 0.0625 - val_accuracy: 0.9926\n",
      "Epoch 34/40\n",
      "1050/1050 [==============================] - 22s 21ms/step - loss: 5.4669e-08 - accuracy: 1.0000 - val_loss: 0.0638 - val_accuracy: 0.9926\n",
      "Epoch 35/40\n",
      "1050/1050 [==============================] - 19s 18ms/step - loss: 3.4145e-08 - accuracy: 1.0000 - val_loss: 0.0654 - val_accuracy: 0.9929\n",
      "Epoch 36/40\n",
      "1050/1050 [==============================] - 21s 20ms/step - loss: 2.0666e-08 - accuracy: 1.0000 - val_loss: 0.0668 - val_accuracy: 0.9927\n",
      "Epoch 37/40\n",
      "1050/1050 [==============================] - 21s 20ms/step - loss: 1.2556e-08 - accuracy: 1.0000 - val_loss: 0.0684 - val_accuracy: 0.9930\n",
      "Epoch 38/40\n",
      "1050/1050 [==============================] - 23s 22ms/step - loss: 7.9934e-09 - accuracy: 1.0000 - val_loss: 0.0698 - val_accuracy: 0.9930\n",
      "Epoch 39/40\n",
      "1050/1050 [==============================] - 22s 21ms/step - loss: 5.0274e-09 - accuracy: 1.0000 - val_loss: 0.0715 - val_accuracy: 0.9932\n",
      "Epoch 40/40\n",
      "1050/1050 [==============================] - 18s 17ms/step - loss: 3.2641e-09 - accuracy: 1.0000 - val_loss: 0.0730 - val_accuracy: 0.9932\n"
     ]
    }
   ],
   "source": [
    "tf.random.set_seed(1234) # for consistent results\n",
    "\n",
    "\n",
    "model = Sequential([])\n",
    "\n",
    "model.add(layers.Conv2D(32,(3,3),activation='relu',input_shape=(28,28,1)))\n",
    "model.add(layers.MaxPooling2D((2,2)))\n",
    "model.add(layers.Conv2D(128,(3,3),activation='relu'))\n",
    "model.add(layers.MaxPooling2D((2,2)))\n",
    "model.add(layers.Flatten())\n",
    "model.add(layers.Dense(128,activation='relu'))\n",
    "model.add(layers.Dense(10))\n",
    "\n",
    "\n",
    "\n",
    "model.compile(optimizer = Adam(0.001),\n",
    "              loss = SparseCategoricalCrossentropy(from_logits=True),metrics=['accuracy'] )\n",
    "\n",
    "hist = model.fit(X_train,y_train,validation_data=(X_val,y_val), epochs = 40,verbose=1)\n",
    "\n"
   ]
  },
  {
   "cell_type": "code",
   "execution_count": null,
   "id": "c08a771a",
   "metadata": {},
   "outputs": [],
   "source": []
  },
  {
   "cell_type": "code",
   "execution_count": 11,
   "id": "f5d5b4d3",
   "metadata": {},
   "outputs": [
    {
     "name": "stdout",
     "output_type": "stream",
     "text": [
      "263/263 [==============================] - 2s 6ms/step\n",
      "1050/1050 [==============================] - 6s 5ms/step\n",
      "\n",
      "train error: 1.0\n",
      "val error: 0.9932142857142857\n",
      "875/875 [==============================] - 10s 12ms/step\n"
     ]
    }
   ],
   "source": [
    "\n",
    "yhatval = model.predict(X_val)\n",
    "yhattr = model.predict(X_train)\n",
    "\n",
    "# applying the softmax activation\n",
    "yh_val = tf.nn.softmax((yhatval))\n",
    "yh_train = tf.nn.softmax((yhattr))\n",
    "\n",
    "prediction = np.argmax(yh_train,axis=1)\n",
    "predictionval = np.argmax(yh_val,axis=1)\n",
    "\n",
    "## calculating the error \n",
    "\n",
    "error = 0\n",
    "errorval=0\n",
    "for i in range(X_train.shape[0]):\n",
    "    \n",
    "    if prediction[i] != np.array(y_train)[i]:\n",
    "        error += 1\n",
    "        \n",
    "for j in range(X_val.shape[0]):  \n",
    "    \n",
    "    \n",
    "    if predictionval[j] != np.array(y_val)[j]:\n",
    "        errorval += 1 \n",
    "        \n",
    "print()\n",
    "print(f'train error: {(X_train.shape[0]-error)/X_train.shape[0]}')\n",
    "print(f'val error: {(X_val.shape[0]-errorval)/X_val.shape[0]}')\n",
    "\n",
    "yhat = model.predict(X_test)\n",
    "x = tf.nn.softmax(yhat)\n",
    "\n",
    "predictiontst = np.argmax(x,axis=1) \n",
    "\n",
    "import csv\n",
    "\n",
    "with open('submission.csv','w',newline='') as csvfile:\n",
    "    csvv = csv.writer(csvfile)\n",
    "    csvv.writerow(['ImageId','Label'])\n",
    "\n",
    "    for i in range((X_test.shape[0])):\n",
    "        csvv.writerow([i+1,predictiontst[i]])"
   ]
  },
  {
   "cell_type": "markdown",
   "id": "6d774722",
   "metadata": {},
   "source": [
    "## ploting accuracy and results\n"
   ]
  },
  {
   "cell_type": "code",
   "execution_count": 12,
   "id": "b6e0c48b",
   "metadata": {},
   "outputs": [
    {
     "data": {
      "image/png": "[encoded data removed]",
      "text/plain": [
       "<Figure size 640x480 with 1 Axes>"
      ]
     },
     "metadata": {},
     "output_type": "display_data"
    }
   ],
   "source": [
    "plt.plot(hist.history['accuracy'],label='train')\n",
    "plt.plot(hist.history['val_accuracy'],label='val')\n",
    "plt.xlabel('epochs')\n",
    "plt.xlabel('accuracy')\n",
    "plt.legend(loc='lower right')\n",
    "plt.show()"
   ]
  },
  {
   "cell_type": "markdown",
   "id": "a79bc819",
   "metadata": {},
   "source": [
    "### Ploting Random Digits from the result"
   ]
  },
  {
   "cell_type": "code",
   "execution_count": 13,
   "id": "cbc8be10",
   "metadata": {},
   "outputs": [
    {
     "data": {
      "image/png": "[encoded data removed]",
      "text/plain": [
       "<Figure size 1000x1000 with 8 Axes>"
      ]
     },
     "metadata": {},
     "output_type": "display_data"
    }
   ],
   "source": [
    "import random\n",
    "plt.figure(figsize=(10,10))\n",
    "for i in range(8):\n",
    "    idx = random.randint(1,len(X_val))\n",
    "    plt.subplot(2,4,i+1)\n",
    "    train_ = X_val[idx]\n",
    "    target = y_val.iloc[idx]\n",
    "    predicted = predictionval[idx]\n",
    "    plt.grid(False)\n",
    "    plt.imshow(train_,cmap='gray')\n",
    "    plt.xticks([])\n",
    "    plt.yticks([])\n",
    "    plt.title(f'Actual: {target }, Predicted: {predicted}')\n",
    "plt.show()"
   ]
  },
  {
   "cell_type": "code",
   "execution_count": null,
   "id": "9ca9e118",
   "metadata": {},
   "outputs": [],
   "source": []
  },
  {
   "cell_type": "code",
   "execution_count": null,
   "id": "aa3a4094",
   "metadata": {},
   "outputs": [],
   "source": []
  },
  {
   "cell_type": "code",
   "execution_count": null,
   "id": "85684eae",
   "metadata": {},
   "outputs": [],
   "source": []
  },
  {
   "cell_type": "code",
   "execution_count": null,
   "id": "f77e58e6",
   "metadata": {},
   "outputs": [],
   "source": []
  },
  {
   "cell_type": "code",
   "execution_count": null,
   "id": "535baaf4",
   "metadata": {},
   "outputs": [],
   "source": []
  },
  {
   "cell_type": "code",
   "execution_count": null,
   "id": "f69db00d",
   "metadata": {},
   "outputs": [],
   "source": []
  },
  {
   "cell_type": "code",
   "execution_count": null,
   "id": "444e931d",
   "metadata": {},
   "outputs": [],
   "source": []
  },
  {
   "cell_type": "code",
   "execution_count": null,
   "id": "1851a512",
   "metadata": {},
   "outputs": [],
   "source": []
  }
 ],
 "metadata": {
  "kernelspec": {
   "display_name": "Python 3 (ipykernel)",
   "language": "python",
   "name": "python3"
  },
  "language_info": {
   "codemirror_mode": {
    "name": "ipython",
    "version": 3
   },
   "file_extension": ".py",
   "mimetype": "text/x-python",
   "name": "python",
   "nbconvert_exporter": "python",
   "pygments_lexer": "ipython3",
   "version": "3.11.5"
  }
 },
 "nbformat": 4,
 "nbformat_minor": 5
}
